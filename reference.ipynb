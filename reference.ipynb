{
 "cells": [
  {
   "cell_type": "markdown",
   "metadata": {},
   "source": [
    "## References and Research\n",
    "###### Author: Mark Gallagher\n",
    "\n",
    "***"
   ]
  },
  {
   "cell_type": "markdown",
   "metadata": {},
   "source": [
    "<img src=\"https://i.gifer.com/7MPq.gif\" width=\"500\"> "
   ]
  },
  {
   "cell_type": "markdown",
   "metadata": {},
   "source": [
    "### <font color='289C4E'>Table of contents<font><a class='anchor' id='top'></a>\n",
    "\n",
    "- [Week 1 - Getting Started](#1)\n",
    "- [Week 2 - Statements](#2)\n",
    "- [Week 3 - Variables](#3)\n",
    "- [Week 4 - Controlling the Flow](#4)\n",
    "- [Week 5 - Data](#5)\n",
    "- [Week 6 - Functions](#6)\n",
    "- [Week 7 - Files](#7)\n",
    "- [Week 8 - Plotting ](#8)\n",
    "<br><br>\n",
    "***"
   ]
  },
  {
   "cell_type": "markdown",
   "metadata": {},
   "source": [
    "### <a class=\"anchor\" id=\"1\">Week 1 - Getting Started</a>\n",
    "<sub><b>The Task</b></sub>\n",
    "<br><br>\n",
    "Write a program called <b>helloword.py</b>. This file should contain a python program that displays Hello World! when it is run. \n",
    "<br><br>\n",
    "<sub><b>Sources:</b></sub>\n",
    "- [Your Guide to the Python print() Function](https://realpython.com/python-print/)\n",
    "- [Python Syntax](https://www.w3schools.com/python/python_syntax.asp)\n",
    "<br><br>\n",
    "\n",
    "***"
   ]
  },
  {
   "cell_type": "markdown",
   "metadata": {},
   "source": [
    "### <a class=\"anchor\" id=\"2\">Week 2 - Statements</a>\n",
    "\n",
    "<sub><b>The Task</b></sub>\n",
    "<br><br>\n",
    "Write a program called <b>bank.py</b>. The program should:\n",
    "<ul>\n",
    "<li>Prompt the user and read in two money amounts (in cent)</li>\n",
    "<li>Add the two amounts</li>\n",
    "<li>Print out the answer in a human readable format with a euro</li>sign and decimal point between the euro and cent of the amount</li>\n",
    "</ul>\n",
    "<sub><b>Sources:</b></sub>\n",
    "\n",
    "- [Python input() Function](https://www.w3schools.com/python/ref_func_input.asp)\n",
    "- [Python Variables](https://www.w3schools.com/python/python_variables.asp)\n",
    "- [Format 2 Decimal Places](https://www.askpython.com/python/built-in-methods/format-2-decimal-places)\n",
    "<br><br>\n",
    "\n",
    "***"
   ]
  },
  {
   "cell_type": "markdown",
   "metadata": {},
   "source": [
    "### <a class=\"anchor\" id=\"3\">Week 3 - Variables</a>\n",
    "\n",
    "<sub><b>The Task</b></sub>\n",
    "<br><br>\n",
    "Write a python program called <b>accounts.py</b> that reads in a 10 character account number and outputs the account number with only the last 4 digits showing (and the first 6 digits replaced with Xs).\n",
    "<br><br>\n",
    "<sub><b>Sources:</b></sub>\n",
    "- Python Crash Course: 2nd Edition (Eric Matthes)\n",
    "- [Python While Loops](https://www.w3schools.com/python/python_while_loops.asp)\n",
    "- [How Slicing in Python Works](https://stackoverflow.com/questions/509211/how-slicing-in-python-works)\n",
    "- [Python If...Else](https://www.w3schools.com/python/python_conditions.asp)\n",
    "<br><br>\n",
    "***"
   ]
  },
  {
   "cell_type": "markdown",
   "metadata": {},
   "source": [
    "### <a class=\"anchor\" id=\"4\">Week 4 - Controlling the Flow</a>\n",
    "<sub><b>The Task</b></sub>\n",
    "<br><br>\n",
    "Write a program, called <b>collatz.py</b>, that asks the user to input any positive integer and outputs the successive values of the following calculation.\n",
    "<br><br>\n",
    "At each step calculate the next value by taking the current value and, if it is even, divide it by two, but if it is odd, multiply it by three and add one.\n",
    "<br><br>\n",
    "Have the program end if the current value is one.\n",
    "<br><br>\n",
    "<sub><b>Sources:</b></sub>\n",
    "- [Python Program to Check if a Number is Odd or Even](https://www.geeksforgeeks.org/python-program-to-check-if-a-number-is-odd-or-even/)\n",
    "- [Python If ... Else](https://www.w3schools.com/python/python_conditions.asp)\n",
    "- [How to take integer input in Python?](https://www.geeksforgeeks.org/how-to-take-integer-input-in-python/)\n",
    "<br><br>\n",
    "***"
   ]
  },
  {
   "cell_type": "markdown",
   "metadata": {},
   "source": [
    "### <a class=\"anchor\" id=\"5\">Week 5 - Data</a>\n",
    "<sub><b>The Task</b></sub>\n",
    "<br><br>\n",
    "Write a program that outputs whether or not today is a weekday. (The program should be called <b>weekday.py</b>)\n",
    "<br><br>\n",
    "<sub><b>Sources:</b></sub>\n",
    "- [What is the datetime date.weekday() function in Python?](https://www.educative.io/answers/what-is-the-datetime-dateweekday-function-in-python)\n",
    "- [Python Datetime: Step-By-step Guide](https://codebuns.com/python/python-datetime/)\n",
    "- [datetime — Basic date and time types](https://docs.python.org/3/library/datetime.html)\n",
    "- [How to Check What Day of the Week it is in Python](https://www.shecodes.io/athena/10185-how-to-check-what-day-of-the-week-it-is-in-python)\n",
    "<br><br>\n",
    "***"
   ]
  },
  {
   "cell_type": "markdown",
   "metadata": {},
   "source": [
    "### <a class=\"anchor\" id=\"6\">Week 6 - Functions</a>\n",
    "<sub><b>The Task</b></sub>\n",
    "<br><br>\n",
    "Write a program that takes a positive floating-point number as input and outputs an approximation of its square root.\n",
    "<br><br>\n",
    "You should create a function called <tt>sqrt</tt> that does this.\n",
    "<br><br>\n",
    "<sub><b>Sources:</b></sub>\n",
    "<br><br>\n",
    "\n",
    "***"
   ]
  },
  {
   "cell_type": "markdown",
   "metadata": {},
   "source": [
    "### <a class=\"anchor\" id=\"Week7\">Week 7 - Files</a>\n",
    "\n",
    "<sub><b>The Task</b></sub>\n",
    "<br><br>\n",
    "Write a program that reads in a text file and outputs the number of e's it contains. Think about what is being asked here, document any assumptions you are making.\n",
    "<br><br>\n",
    "The program should take the filename from an argument on the command line. I have not shown you how to do this, you need to look it up.\n",
    "<br><br>\n",
    "<sub><b>Sources:</b></sub>\n",
    "- [How to Read Text File in Python?](https://hackernoon.com/how-to-read-text-file-in-python)\n",
    "- [Python Workout — word, line and character count in a text file](https://medium.com/@ericvanrees/python-workout-word-line-and-character-count-in-a-text-file-6eff0cb5ef0f)\n",
    "- [Python List count() Method](https://www.w3schools.com/python/ref_list_count.asp)\n",
    "<br><br>\n",
    "***"
   ]
  },
  {
   "cell_type": "markdown",
   "metadata": {},
   "source": [
    "### <a class=\"anchor\" id=\"8\">Week 8 </a>\n",
    "<sub><b>The Task</b></sub>\n",
    "<br><br>\n",
    "Write a program called <b>plottask.py</b> that displays:\n",
    "<ul>\n",
    "<li>a histogram of a normal distribution of a 1000 values with a mean of 5 and standard deviation of 2</li> \n",
    "<li>and a plot of the function  h(x)=x3 in the range 0 to 10,</li> \n",
    "</ul>\n",
    "on the one set of axes.\n",
    "<br><br>\n",
    "<sub><b>Sources:</b></sub>\n",
    "<br><br>\n",
    "\n",
    "***"
   ]
  },
  {
   "cell_type": "markdown",
   "metadata": {},
   "source": [
    "##### End"
   ]
  },
  {
   "cell_type": "markdown",
   "metadata": {},
   "source": []
  }
 ],
 "metadata": {
  "language_info": {
   "name": "python"
  }
 },
 "nbformat": 4,
 "nbformat_minor": 2
}
